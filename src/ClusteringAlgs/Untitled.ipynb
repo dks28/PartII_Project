{
 "cells": [
  {
   "cell_type": "code",
   "execution_count": 1,
   "metadata": {},
   "outputs": [],
   "source": [
    "import numpy as np\n",
    "import numpy.linalg as la\n",
    "from sklearn.cluster import KMeans\n",
    "from scipy.linalg import fractional_matrix_power as f_mat_pow\n",
    "from sklearn.preprocessing import normalize as normalise"
   ]
  },
  {
   "cell_type": "code",
   "execution_count": 2,
   "metadata": {},
   "outputs": [],
   "source": [
    "import time\n",
    "def herm(A, k, ϵ):\n",
    "    n, m = A.shape\n",
    "    assert n == m\n",
    "    assert (A == A.H).all()\n",
    "    start = time.time()\n",
    "    λ, g = la.eigh(A)\n",
    "    end = time.time()\n",
    "    print(\"Calculating eigenpairs took\", end-start)\n",
    "    g = g[:, np.abs(λ) > ϵ]\n",
    "    start = time.time()\n",
    "    P = np.real(g @ g.H)\n",
    "    end = time.time()\n",
    "    print('calculating P took', end-start)\n",
    "    start = time.time()\n",
    "    kmeans = KMeans(n_clusters=k).fit(P)\n",
    "    end = time.time()\n",
    "    print(\"Clustering took\", end-start)\n",
    "    return kmeans.labels_"
   ]
  },
  {
   "cell_type": "code",
   "execution_count": 43,
   "metadata": {},
   "outputs": [],
   "source": [
    "def hard_cycle(c,m):\n",
    "    A = np.matrix(np.zeros((m*c,m*c), dtype=complex))\n",
    "    for i in range(c):\n",
    "        A[m*i:m*(i+1), m*((i+1)%c):m*((i+1)%c+1)] =  1j\n",
    "        A[m*((i+1)%c):m*((i+1)%c+1), m*i:m*(i+1)] = -1j\n",
    "    return A"
   ]
  },
  {
   "cell_type": "code",
   "execution_count": null,
   "metadata": {
    "scrolled": false
   },
   "outputs": [],
   "source": [
    "A = hard_cycle(100, 100)\n",
    "#A = np.matrix(np.triu(np.matrix(1j*np.ones((50,50))), 1) - np.tril(1j*np.matrix(np.ones((50,50))),-1))\n",
    "print('Created A')\n",
    "herm(A, 5, 0.01).reshape(5,-1)"
   ]
  },
  {
   "cell_type": "code",
   "execution_count": 44,
   "metadata": {},
   "outputs": [
    {
     "name": "stdout",
     "output_type": "stream",
     "text": [
      "Created A\n",
      "Calculating eigenpairs took 1203.8101615905762\n",
      "calculating P took 2.4294815063476562\n",
      "Clustering took 370.667688369751\n"
     ]
    },
    {
     "data": {
      "text/plain": [
       "array([[ 0,  0,  0, ...,  0,  0,  0],\n",
       "       [28, 28, 28, ..., 28, 28, 28],\n",
       "       [ 2,  2,  2, ...,  2,  2,  2],\n",
       "       ...,\n",
       "       [ 8,  8,  8, ...,  8,  8,  8],\n",
       "       [ 5,  5,  5, ...,  5,  5,  5],\n",
       "       [15, 15, 15, ..., 15, 15, 15]], dtype=int32)"
      ]
     },
     "execution_count": 44,
     "metadata": {},
     "output_type": "execute_result"
    }
   ],
   "source": [
    "A = hard_cycle(100, 100)\n",
    "#A = np.matrix(np.triu(np.matrix(1j*np.ones((50,50))), 1) - np.tril(1j*np.matrix(np.ones((50,50))),-1))\n",
    "print('Created A')\n",
    "herm(A, 100, 0.01).reshape(100,-1)"
   ]
  },
  {
   "cell_type": "code",
   "execution_count": null,
   "metadata": {},
   "outputs": [],
   "source": [
    "_"
   ]
  },
  {
   "cell_type": "code",
   "execution_count": null,
   "metadata": {},
   "outputs": [],
   "source": [
    "_34.mean(axis=1)"
   ]
  },
  {
   "cell_type": "code",
   "execution_count": 39,
   "metadata": {},
   "outputs": [],
   "source": [
    "mat = lambda m : np.matrix(m)\n",
    "\n",
    "def disim(A, ky, kz, τ=None):\n",
    "    n, m = A.shape\n",
    "    assert n==m\n",
    "    K = min(ky, kz)\n",
    "    out_degrees = A.sum(axis=1)\n",
    "    in_degrees = A.sum(axis=0)\n",
    "    τ = out_degrees.mean() if τ == None else τ\n",
    "    Pτ = mat(np.diagflat(in_degrees + τ))\n",
    "    Oτ = mat(np.diagflat(out_degrees + τ))\n",
    "    tmp1 = f_mat_pow(Oτ, -0.5)\n",
    "    tmp2 = f_mat_pow(Pτ, -0.5)\n",
    "    L =  tmp1 @ A @ tmp2\n",
    "    start = time.time()\n",
    "    U, Σ, V = la.svd(L)\n",
    "    end = time.time()\n",
    "    print('svd took', end-start)\n",
    "    XL = U[:, np.argsort(Σ)[-K:]]\n",
    "    XR = V.T[:, np.argsort(Σ)[-K:]]\n",
    "    XL_, XR_ = normalise(XL), normalise(XR)\n",
    "    X_ = np.zeros((2*n, K))\n",
    "    X_[:n, :] = XL_\n",
    "    X_[n:, :] = XR_\n",
    "    start = time.time()\n",
    "    kmeans = KMeans(n_clusters=K).fit(X_)\n",
    "    end = time.time()\n",
    "    print('clustering took', end-start)\n",
    "    return kmeans.labels_"
   ]
  },
  {
   "cell_type": "code",
   "execution_count": 40,
   "metadata": {
    "scrolled": false
   },
   "outputs": [
    {
     "name": "stdout",
     "output_type": "stream",
     "text": [
      "svd took 371.7121548652649\n",
      "clustering took 7.779682397842407\n"
     ]
    },
    {
     "data": {
      "text/plain": [
       "array([[66, 66, 66, ..., 76, 76, 76],\n",
       "       [76, 76, 76, ..., 27, 27, 27]], dtype=int32)"
      ]
     },
     "execution_count": 40,
     "metadata": {},
     "output_type": "execute_result"
    }
   ],
   "source": [
    "B = np.maximum(np.imag(hard_cycle(100,100)), 0)\n",
    "disim(B, 100, 100).reshape(2,-1)"
   ]
  },
  {
   "cell_type": "code",
   "execution_count": 41,
   "metadata": {},
   "outputs": [
    {
     "data": {
      "text/plain": [
       "array([[1., 1., 1.],\n",
       "       [1., 1., 1.],\n",
       "       [1., 1., 1.],\n",
       "       [1., 1., 1.],\n",
       "       [1., 1., 1.],\n",
       "       [1., 1., 1.],\n",
       "       [1., 1., 1.],\n",
       "       [1., 1., 1.],\n",
       "       [1., 1., 1.],\n",
       "       [1., 1., 1.],\n",
       "       [1., 1., 1.],\n",
       "       [1., 1., 1.],\n",
       "       [1., 1., 1.],\n",
       "       [1., 1., 1.],\n",
       "       [1., 1., 1.],\n",
       "       [1., 1., 1.],\n",
       "       [1., 1., 1.],\n",
       "       [1., 1., 1.],\n",
       "       [1., 1., 1.],\n",
       "       [1., 1., 1.],\n",
       "       [1., 1., 1.],\n",
       "       [1., 1., 1.],\n",
       "       [1., 1., 1.],\n",
       "       [1., 1., 1.],\n",
       "       [1., 1., 1.],\n",
       "       [1., 1., 1.],\n",
       "       [1., 1., 1.],\n",
       "       [1., 1., 1.],\n",
       "       [1., 1., 1.],\n",
       "       [1., 1., 1.],\n",
       "       [1., 1., 1.],\n",
       "       [1., 1., 1.],\n",
       "       [1., 1., 1.],\n",
       "       [1., 1., 1.],\n",
       "       [1., 1., 1.],\n",
       "       [1., 1., 1.],\n",
       "       [1., 1., 1.],\n",
       "       [1., 1., 1.],\n",
       "       [1., 1., 1.],\n",
       "       [1., 1., 1.],\n",
       "       [1., 1., 1.],\n",
       "       [1., 1., 1.],\n",
       "       [1., 1., 1.],\n",
       "       [1., 1., 1.],\n",
       "       [1., 1., 1.],\n",
       "       [1., 1., 1.],\n",
       "       [1., 1., 1.],\n",
       "       [1., 1., 1.],\n",
       "       [1., 1., 1.],\n",
       "       [1., 1., 1.],\n",
       "       [1., 1., 1.],\n",
       "       [1., 1., 1.],\n",
       "       [1., 1., 1.],\n",
       "       [1., 1., 1.],\n",
       "       [1., 1., 1.],\n",
       "       [1., 1., 1.],\n",
       "       [1., 1., 1.],\n",
       "       [1., 1., 1.],\n",
       "       [1., 1., 1.],\n",
       "       [1., 1., 1.],\n",
       "       [1., 1., 1.],\n",
       "       [1., 1., 1.],\n",
       "       [1., 1., 1.],\n",
       "       [1., 1., 1.],\n",
       "       [1., 1., 1.],\n",
       "       [1., 1., 1.],\n",
       "       [1., 1., 1.],\n",
       "       [1., 1., 1.],\n",
       "       [1., 1., 1.],\n",
       "       [1., 1., 1.],\n",
       "       [1., 1., 1.],\n",
       "       [1., 1., 1.],\n",
       "       [1., 1., 1.],\n",
       "       [1., 1., 1.],\n",
       "       [1., 1., 1.],\n",
       "       [1., 1., 1.],\n",
       "       [1., 1., 1.],\n",
       "       [1., 1., 1.],\n",
       "       [1., 1., 1.],\n",
       "       [1., 1., 1.],\n",
       "       [1., 1., 1.],\n",
       "       [1., 1., 1.],\n",
       "       [1., 1., 1.],\n",
       "       [1., 1., 1.],\n",
       "       [1., 1., 1.],\n",
       "       [1., 1., 1.],\n",
       "       [1., 1., 1.],\n",
       "       [1., 1., 1.],\n",
       "       [1., 1., 1.],\n",
       "       [1., 1., 1.],\n",
       "       [1., 1., 1.],\n",
       "       [1., 1., 1.],\n",
       "       [1., 1., 1.],\n",
       "       [1., 1., 1.],\n",
       "       [1., 1., 1.],\n",
       "       [1., 1., 1.],\n",
       "       [1., 1., 1.],\n",
       "       [1., 1., 1.],\n",
       "       [1., 1., 1.],\n",
       "       [1., 1., 1.]])"
      ]
     },
     "execution_count": 41,
     "metadata": {},
     "output_type": "execute_result"
    }
   ],
   "source": [
    "np.ones((100,100))[:, np.argsort([10,9,1])[-3:]]"
   ]
  },
  {
   "cell_type": "code",
   "execution_count": null,
   "metadata": {},
   "outputs": [],
   "source": []
  }
 ],
 "metadata": {
  "kernelspec": {
   "display_name": "Python 3",
   "language": "python",
   "name": "python3"
  },
  "language_info": {
   "codemirror_mode": {
    "name": "ipython",
    "version": 3
   },
   "file_extension": ".py",
   "mimetype": "text/x-python",
   "name": "python",
   "nbconvert_exporter": "python",
   "pygments_lexer": "ipython3",
   "version": "3.6.5"
  }
 },
 "nbformat": 4,
 "nbformat_minor": 2
}

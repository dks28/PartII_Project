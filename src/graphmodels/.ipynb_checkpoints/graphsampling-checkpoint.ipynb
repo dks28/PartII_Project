{
 "cells": [
  {
   "cell_type": "code",
   "execution_count": 100,
   "metadata": {},
   "outputs": [],
   "source": [
    "import numpy as np\n",
    "import numpy.random as rand\n",
    "from tqdm import tqdm_notebook as tqdm"
   ]
  },
  {
   "cell_type": "code",
   "execution_count": 79,
   "metadata": {},
   "outputs": [],
   "source": [
    "def DSBM(k, n, p, q, F, random_state=None, Herm=True):\n",
    "    if not (random_state == None):\n",
    "        rand.seed(random_state)\n",
    "    assert (F.shape == k, k) and (k >= 2) and (abs(p-0.5) <= 0.5) and (abs(q-0.5) <= 0.5)\n",
    "    assert np.all(F + F.T == 1)\n",
    "    N = k * n\n",
    "    res = np.zeros((N,N), dtype=complex)\n",
    "    for c in range(k):\n",
    "        for d in range(c,k):\n",
    "            prob = p if c == d else q\n",
    "            cd_ns = rand.rand(n,n) <= prob\n",
    "            dirs = 2 * (rand.rand(n,n) <= F[c,d]) - 1\n",
    "            cd_ns = cd_ns * dirs\n",
    "            res[c * n : (c+1) * n, d * n : (d+1) * n] = cd_ns\n",
    "            \n",
    "    res = (np.triu(res) - np.triu(res).T) * 1j\n",
    "    \n",
    "    if not Herm:\n",
    "        res = 1 * (res/1j > 0)\n",
    "    return res"
   ]
  },
  {
   "cell_type": "code",
   "execution_count": 91,
   "metadata": {},
   "outputs": [],
   "source": [
    "F = np.array([\n",
    "        [0.5, 0.25, 0.5, 0.75],\n",
    "        [0.75, 0.5, 0.25, 0.5],\n",
    "        [0.5, 0.75, 0.5, 0.25],\n",
    "        [0.25, 0.5, 0.75, 0.5]\n",
    "    ])\n",
    "k, n = 4, 2500\n",
    "p, q = 0.025, 0.025"
   ]
  },
  {
   "cell_type": "code",
   "execution_count": 92,
   "metadata": {},
   "outputs": [],
   "source": [
    "N = k*n\n",
    "P = np.ones(k) / k\n",
    "C  = np.array([\n",
    "    [0.5, 0.2, 0.2, 0.1],\n",
    "    [0.4, 0.5, 0.05, 0.05],\n",
    "    [0.1, 0.2, 0.5, 0.2],\n",
    "    [0.1, 0.2, 0.3, 0.4]\n",
    "])\n",
    "c = int(n/2 * (p+q))"
   ]
  },
  {
   "cell_type": "code",
   "execution_count": 103,
   "metadata": {},
   "outputs": [],
   "source": [
    "def DSBM_PA(k, N, P, C, c, a=2, initial_nodes_per_cluster=4, Herm=False, random_state=None):\n",
    "    if not (random_state == None):\n",
    "        rand.seed(random_state)\n",
    "    flatten = lambda edges : np.array([e for es in edges for e in es]) if len(edges) > 0 else []\n",
    "    def select(v, P):\n",
    "        index = -1\n",
    "        while(v > 0):\n",
    "            index +=1\n",
    "            v -= P[index]\n",
    "        return max(0, index)\n",
    "    \n",
    "    import networkx as nx\n",
    "    \n",
    "    communities = list(map(list,np.reshape(np.arange(0,initial_nodes_per_cluster*k), (k,initial_nodes_per_cluster))))\n",
    "    community_edges = [[]]*k\n",
    "\n",
    "    G = nx.DiGraph()\n",
    "    for i, com in enumerate(communities):\n",
    "        G.add_nodes_from(com, community=i)\n",
    "\n",
    "    for i, com in enumerate(communities):\n",
    "        edges = flatten([[(com[j], c) for c in com[j+1:]] for j in range(len(com))])\n",
    "        G.add_edges_from(edges)\n",
    "        community_edges[i].extend(edges)\n",
    "\n",
    "    for i, com in enumerate(communities[:-1]):\n",
    "        G.add_edge(com[-1], communities[i+1][0])\n",
    "        community_edges[i].append((com[-1],communities[i+1][0]))\n",
    "        \n",
    "    for i in tqdm(range(initial_nodes_per_cluster*k,N)):\n",
    "        r = rand.random()\n",
    "        comm = select(r, P)\n",
    "        communities[comm].append(i)\n",
    "        G.add_node(i,community=comm)\n",
    "        for _ in range(c):\n",
    "            dest_node = i \n",
    "            r2 = rand.random()\n",
    "            dest = select(r2, C[comm])\n",
    "            while dest_node == i:\n",
    "                if rand.random() < c / (c+a):\n",
    "                    edges = community_edges[comm]\n",
    "                    _, dest_node = edges[rand.randint(len(edges))]\n",
    "                else:\n",
    "                    dest_node = rand.choice(communities[dest])\n",
    "            G.add_edge(i, dest_node)\n",
    "            community_edges[comm].append((i,dest_node))   \n",
    "    \n",
    "    res = nx.to_numpy_array(G, dtype=complex)\n",
    "    if Herm:\n",
    "        res = (res - res.T) * 1j\n",
    "    return res"
   ]
  },
  {
   "cell_type": "code",
   "execution_count": 102,
   "metadata": {},
   "outputs": [
    {
     "data": {
      "application/vnd.jupyter.widget-view+json": {
       "model_id": "36390f3d3a4445aba0787a7e1521d853",
       "version_major": 2,
       "version_minor": 0
      },
      "text/plain": [
       "HBox(children=(IntProgress(value=0, max=9984), HTML(value='')))"
      ]
     },
     "metadata": {},
     "output_type": "display_data"
    },
    {
     "name": "stdout",
     "output_type": "stream",
     "text": [
      "\n"
     ]
    },
    {
     "data": {
      "text/plain": [
       "array([[ 0.+0.j,  0.+1.j,  0.+1.j, ..., -0.-1.j,  0.+0.j,  0.+0.j],\n",
       "       [-0.-1.j,  0.+0.j,  0.+1.j, ...,  0.+0.j,  0.+0.j, -0.-1.j],\n",
       "       [-0.-1.j, -0.-1.j,  0.+0.j, ..., -0.-1.j, -0.-1.j, -0.-1.j],\n",
       "       ...,\n",
       "       [ 0.+1.j,  0.+0.j,  0.+1.j, ...,  0.+0.j,  0.+0.j,  0.+0.j],\n",
       "       [ 0.+0.j,  0.+0.j,  0.+1.j, ...,  0.+0.j,  0.+0.j,  0.+0.j],\n",
       "       [ 0.+0.j,  0.+1.j,  0.+1.j, ...,  0.+0.j,  0.+0.j,  0.+0.j]])"
      ]
     },
     "execution_count": 102,
     "metadata": {},
     "output_type": "execute_result"
    }
   ],
   "source": [
    "DSBM_PA(k, N, P, C, c, Herm=True)"
   ]
  },
  {
   "cell_type": "code",
   "execution_count": 74,
   "metadata": {},
   "outputs": [
    {
     "data": {
      "text/plain": [
       "matrix([[ 0.,  1.,  1., ...,  0.,  0., -1.],\n",
       "        [-1.,  0.,  1., ...,  0.,  0.,  0.],\n",
       "        [-1., -1.,  0., ..., -1., -1., -1.],\n",
       "        ...,\n",
       "        [ 0.,  0.,  1., ...,  0., -1.,  0.],\n",
       "        [ 0.,  0.,  1., ...,  1.,  0.,  0.],\n",
       "        [ 1.,  0.,  1., ...,  0.,  0.,  0.]])"
      ]
     },
     "execution_count": 74,
     "metadata": {},
     "output_type": "execute_result"
    }
   ],
   "source": [
    "import networkx as nx\n",
    "tmp = nx.to_numpy_matrix(_)\n",
    "tmp - tmp.T"
   ]
  },
  {
   "cell_type": "code",
   "execution_count": 61,
   "metadata": {},
   "outputs": [
    {
     "data": {
      "text/plain": [
       "array([[0.9  , 0.025],\n",
       "       [0.075, 0.9  ]])"
      ]
     },
     "execution_count": 61,
     "metadata": {},
     "output_type": "execute_result"
    }
   ],
   "source": [
    "C"
   ]
  },
  {
   "cell_type": "code",
   "execution_count": 84,
   "metadata": {},
   "outputs": [
    {
     "data": {
      "text/plain": [
       "array([[0, 1, 0, ..., 0, 0, 0],\n",
       "       [0, 0, 1, ..., 0, 0, 0],\n",
       "       [1, 0, 0, ..., 0, 0, 0],\n",
       "       ...,\n",
       "       [0, 0, 0, ..., 0, 0, 0],\n",
       "       [0, 0, 0, ..., 1, 0, 0],\n",
       "       [0, 1, 0, ..., 1, 1, 0]])"
      ]
     },
     "execution_count": 84,
     "metadata": {},
     "output_type": "execute_result"
    }
   ],
   "source": [
    "DSBM(k,n,p,q,F,random_state=28,Herm=False)"
   ]
  },
  {
   "cell_type": "code",
   "execution_count": 93,
   "metadata": {},
   "outputs": [
    {
     "data": {
      "text/plain": [
       "62"
      ]
     },
     "execution_count": 93,
     "metadata": {},
     "output_type": "execute_result"
    }
   ],
   "source": [
    "c"
   ]
  },
  {
   "cell_type": "code",
   "execution_count": null,
   "metadata": {},
   "outputs": [],
   "source": []
  }
 ],
 "metadata": {
  "kernelspec": {
   "display_name": "Python 3",
   "language": "python",
   "name": "python3"
  },
  "language_info": {
   "codemirror_mode": {
    "name": "ipython",
    "version": 3
   },
   "file_extension": ".py",
   "mimetype": "text/x-python",
   "name": "python",
   "nbconvert_exporter": "python",
   "pygments_lexer": "ipython3",
   "version": "3.6.5"
  }
 },
 "nbformat": 4,
 "nbformat_minor": 2
}
